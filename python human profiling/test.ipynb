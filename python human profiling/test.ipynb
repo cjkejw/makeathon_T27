{
 "cells": [
  {
   "cell_type": "code",
   "execution_count": 1,
   "metadata": {},
   "outputs": [
    {
     "name": "stdout",
     "output_type": "stream",
     "text": [
      "Webcam initialized. Press 'q' to quit.\n",
      "Exiting program...\n",
      "Webcam and windows successfully released.\n"
     ]
    }
   ],
   "source": [
    "import cv2\n",
    "import os\n",
    "\n",
    "# Paths to Haar Cascade XML files\n",
    "fullbody_cascade_path = \"haarcascade_fullbody.xml\"\n",
    "upperbody_cascade_path = \"haarcascade_upperbody.xml\"\n",
    "frontalface_cascade_path = \"haarcascade_frontalface_default.xml\"\n",
    "profileface_cascade_path = \"haarcascade_profileface.xml\"\n",
    "\n",
    "# Ensure all cascade files exist\n",
    "if not all(os.path.exists(p) for p in [fullbody_cascade_path, upperbody_cascade_path, frontalface_cascade_path, profileface_cascade_path]):\n",
    "    print(\"Error: One or more Haar Cascade files are missing!\")\n",
    "    exit()\n",
    "\n",
    "# Load Haar Cascade classifiers\n",
    "fullbody_cascade = cv2.CascadeClassifier(fullbody_cascade_path)\n",
    "upperbody_cascade = cv2.CascadeClassifier(upperbody_cascade_path)\n",
    "frontalface_cascade = cv2.CascadeClassifier(frontalface_cascade_path)\n",
    "profileface_cascade = cv2.CascadeClassifier(profileface_cascade_path)\n",
    "\n",
    "# Initialize the webcam\n",
    "cap = cv2.VideoCapture(0)\n",
    "if not cap.isOpened():\n",
    "    print(\"Error: Could not access the webcam.\")\n",
    "    exit()\n",
    "\n",
    "print(\"Webcam initialized. Press 'q' to quit.\")\n",
    "\n",
    "while True:\n",
    "    ret, frame = cap.read()\n",
    "    if not ret:\n",
    "        print(\"Error: Failed to capture frame. Exiting...\")\n",
    "        break\n",
    "\n",
    "    # Convert frame to grayscale\n",
    "    gray = cv2.cvtColor(frame, cv2.COLOR_BGR2GRAY)\n",
    "\n",
    "    # Detect full bodies, upper bodies, frontal faces, and profile faces\n",
    "    fullbodies = fullbody_cascade.detectMultiScale(gray, scaleFactor=1.1, minNeighbors=5, minSize=(50, 50))\n",
    "    upperbodies = upperbody_cascade.detectMultiScale(gray, scaleFactor=1.1, minNeighbors=5, minSize=(50, 50))\n",
    "    frontalfaces = frontalface_cascade.detectMultiScale(gray, scaleFactor=1.1, minNeighbors=5, minSize=(30, 30))\n",
    "    profilefaces = profileface_cascade.detectMultiScale(gray, scaleFactor=1.1, minNeighbors=5, minSize=(30, 30))\n",
    "\n",
    "    # Draw rectangles for detected humans\n",
    "    for (x, y, w, h) in fullbodies:\n",
    "        cv2.rectangle(frame, (x, y), (x+w, y+h), (0, 255, 0), 2)  # Green for full body\n",
    "    for (x, y, w, h) in upperbodies:\n",
    "        cv2.rectangle(frame, (x, y), (x+w, y+h), (255, 0, 0), 2)  # Blue for upper body\n",
    "    for (x, y, w, h) in frontalfaces:\n",
    "        cv2.rectangle(frame, (x, y), (x+w, y+h), (0, 0, 255), 2)  # Red for frontal face\n",
    "    for (x, y, w, h) in profilefaces:\n",
    "        cv2.rectangle(frame, (x, y), (x+w, y+h), (255, 255, 0), 2)  # Yellow for profile face\n",
    "\n",
    "    # Display the resulting frame\n",
    "    cv2.imshow(\"Webcam Feed - Human Detection\", frame)\n",
    "\n",
    "    # Exit the loop if 'q' is pressed\n",
    "    if cv2.waitKey(100) & 0xFF == ord('q'):\n",
    "        print(\"Exiting program...\")\n",
    "        break\n",
    "\n",
    "# Release the webcam and close all OpenCV windows\n",
    "cap.release()\n",
    "cv2.destroyAllWindows()\n",
    "print(\"Webcam and windows successfully released.\")"
   ]
  }
 ],
 "metadata": {
  "kernelspec": {
   "display_name": "base",
   "language": "python",
   "name": "python3"
  },
  "language_info": {
   "codemirror_mode": {
    "name": "ipython",
    "version": 3
   },
   "file_extension": ".py",
   "mimetype": "text/x-python",
   "name": "python",
   "nbconvert_exporter": "python",
   "pygments_lexer": "ipython3",
   "version": "3.11.7"
  }
 },
 "nbformat": 4,
 "nbformat_minor": 2
}
